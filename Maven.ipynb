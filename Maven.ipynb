{
 "cells": [
  {
   "cell_type": "code",
   "execution_count": 1,
   "id": "4ffd62d6-0653-4e5b-98ba-64b5e03bace7",
   "metadata": {},
   "outputs": [],
   "source": [
    "# Import libraries\n",
    "import pandas as pd\n",
    "import warnings\n",
    "\n",
    "warnings.simplefilter(action=\"ignore\", category=FutureWarning)"
   ]
  },
  {
   "cell_type": "code",
   "execution_count": 3,
   "id": "7ec0eee4-97ab-4104-b7e1-36c055c22d00",
   "metadata": {},
   "outputs": [],
   "source": [
    "# Read in CSV file\n",
    "df = pd.read_csv(\"unicorn_companies_clean.csv\")\n",
    "\n"
   ]
  },
  {
   "cell_type": "code",
   "execution_count": 5,
   "id": "5046fcdd-c3c8-4f35-b5b7-20e1ec360b02",
   "metadata": {},
   "outputs": [
    {
     "data": {
      "text/html": [
       "<div>\n",
       "<style scoped>\n",
       "    .dataframe tbody tr th:only-of-type {\n",
       "        vertical-align: middle;\n",
       "    }\n",
       "\n",
       "    .dataframe tbody tr th {\n",
       "        vertical-align: top;\n",
       "    }\n",
       "\n",
       "    .dataframe thead th {\n",
       "        text-align: right;\n",
       "    }\n",
       "</style>\n",
       "<table border=\"1\" class=\"dataframe\">\n",
       "  <thead>\n",
       "    <tr style=\"text-align: right;\">\n",
       "      <th></th>\n",
       "      <th>Company</th>\n",
       "      <th>Valuation</th>\n",
       "      <th>Date Joined</th>\n",
       "      <th>Industry</th>\n",
       "      <th>City</th>\n",
       "      <th>Country</th>\n",
       "      <th>Continent</th>\n",
       "      <th>Year Founded</th>\n",
       "      <th>Funding</th>\n",
       "      <th>Select Investors</th>\n",
       "    </tr>\n",
       "  </thead>\n",
       "  <tbody>\n",
       "    <tr>\n",
       "      <th>0</th>\n",
       "      <td>Bytedance</td>\n",
       "      <td>1.800000e+11</td>\n",
       "      <td>2017-04-07</td>\n",
       "      <td>Artificial intelligence</td>\n",
       "      <td>Beijing</td>\n",
       "      <td>China</td>\n",
       "      <td>Asia</td>\n",
       "      <td>2012</td>\n",
       "      <td>8.000000e+09</td>\n",
       "      <td>Sequoia Capital China</td>\n",
       "    </tr>\n",
       "    <tr>\n",
       "      <th>1</th>\n",
       "      <td>Bytedance</td>\n",
       "      <td>1.800000e+11</td>\n",
       "      <td>2017-04-07</td>\n",
       "      <td>Artificial intelligence</td>\n",
       "      <td>Beijing</td>\n",
       "      <td>China</td>\n",
       "      <td>Asia</td>\n",
       "      <td>2012</td>\n",
       "      <td>8.000000e+09</td>\n",
       "      <td>SIG Asia Investments</td>\n",
       "    </tr>\n",
       "    <tr>\n",
       "      <th>2</th>\n",
       "      <td>Bytedance</td>\n",
       "      <td>1.800000e+11</td>\n",
       "      <td>2017-04-07</td>\n",
       "      <td>Artificial intelligence</td>\n",
       "      <td>Beijing</td>\n",
       "      <td>China</td>\n",
       "      <td>Asia</td>\n",
       "      <td>2012</td>\n",
       "      <td>8.000000e+09</td>\n",
       "      <td>Sina Weibo</td>\n",
       "    </tr>\n",
       "    <tr>\n",
       "      <th>3</th>\n",
       "      <td>Bytedance</td>\n",
       "      <td>1.800000e+11</td>\n",
       "      <td>2017-04-07</td>\n",
       "      <td>Artificial intelligence</td>\n",
       "      <td>Beijing</td>\n",
       "      <td>China</td>\n",
       "      <td>Asia</td>\n",
       "      <td>2012</td>\n",
       "      <td>8.000000e+09</td>\n",
       "      <td>Softbank Group</td>\n",
       "    </tr>\n",
       "    <tr>\n",
       "      <th>4</th>\n",
       "      <td>SpaceX</td>\n",
       "      <td>1.000000e+11</td>\n",
       "      <td>2012-12-01</td>\n",
       "      <td>Other</td>\n",
       "      <td>Hawthorne</td>\n",
       "      <td>United States</td>\n",
       "      <td>North America</td>\n",
       "      <td>2002</td>\n",
       "      <td>7.000000e+09</td>\n",
       "      <td>Founders Fund</td>\n",
       "    </tr>\n",
       "  </tbody>\n",
       "</table>\n",
       "</div>"
      ],
      "text/plain": [
       "     Company     Valuation Date Joined                 Industry       City  \\\n",
       "0  Bytedance  1.800000e+11  2017-04-07  Artificial intelligence    Beijing   \n",
       "1  Bytedance  1.800000e+11  2017-04-07  Artificial intelligence    Beijing   \n",
       "2  Bytedance  1.800000e+11  2017-04-07  Artificial intelligence    Beijing   \n",
       "3  Bytedance  1.800000e+11  2017-04-07  Artificial intelligence    Beijing   \n",
       "4     SpaceX  1.000000e+11  2012-12-01                    Other  Hawthorne   \n",
       "\n",
       "         Country      Continent  Year Founded       Funding  \\\n",
       "0          China           Asia          2012  8.000000e+09   \n",
       "1          China           Asia          2012  8.000000e+09   \n",
       "2          China           Asia          2012  8.000000e+09   \n",
       "3          China           Asia          2012  8.000000e+09   \n",
       "4  United States  North America          2002  7.000000e+09   \n",
       "\n",
       "        Select Investors  \n",
       "0  Sequoia Capital China  \n",
       "1   SIG Asia Investments  \n",
       "2             Sina Weibo  \n",
       "3         Softbank Group  \n",
       "4          Founders Fund  "
      ]
     },
     "execution_count": 5,
     "metadata": {},
     "output_type": "execute_result"
    }
   ],
   "source": [
    "df.head()\n"
   ]
  },
  {
   "cell_type": "code",
   "execution_count": 7,
   "id": "076526e4-3bee-45a0-aeb7-85b4a4b703ba",
   "metadata": {},
   "outputs": [
    {
     "name": "stdout",
     "output_type": "stream",
     "text": [
      "<class 'pandas.core.frame.DataFrame'>\n",
      "RangeIndex: 2974 entries, 0 to 2973\n",
      "Data columns (total 10 columns):\n",
      " #   Column            Non-Null Count  Dtype  \n",
      "---  ------            --------------  -----  \n",
      " 0   Company           2974 non-null   object \n",
      " 1   Valuation         2974 non-null   float64\n",
      " 2   Date Joined       2974 non-null   object \n",
      " 3   Industry          2974 non-null   object \n",
      " 4   City              2974 non-null   object \n",
      " 5   Country           2974 non-null   object \n",
      " 6   Continent         2974 non-null   object \n",
      " 7   Year Founded      2974 non-null   int64  \n",
      " 8   Funding           2974 non-null   float64\n",
      " 9   Select Investors  2974 non-null   object \n",
      "dtypes: float64(2), int64(1), object(7)\n",
      "memory usage: 232.5+ KB\n"
     ]
    }
   ],
   "source": [
    "df.info()\n"
   ]
  },
  {
   "cell_type": "code",
   "execution_count": 9,
   "id": "5f0f310c-07e9-4421-9b65-0a3208d8f7d6",
   "metadata": {},
   "outputs": [
    {
     "data": {
      "text/plain": [
       "(2974, 10)"
      ]
     },
     "execution_count": 9,
     "metadata": {},
     "output_type": "execute_result"
    }
   ],
   "source": [
    "df.shape"
   ]
  },
  {
   "cell_type": "code",
   "execution_count": 11,
   "id": "fcaedced-96cb-464a-b8e9-c8fc5c464094",
   "metadata": {},
   "outputs": [
    {
     "name": "stdout",
     "output_type": "stream",
     "text": [
      "<class 'pandas.core.frame.DataFrame'>\n",
      "RangeIndex: 2974 entries, 0 to 2973\n",
      "Data columns (total 10 columns):\n",
      " #   Column            Non-Null Count  Dtype  \n",
      "---  ------            --------------  -----  \n",
      " 0   Company           2974 non-null   object \n",
      " 1   Valuation         2974 non-null   float64\n",
      " 2   Date Joined       2974 non-null   object \n",
      " 3   Industry          2974 non-null   object \n",
      " 4   City              2974 non-null   object \n",
      " 5   Country           2974 non-null   object \n",
      " 6   Continent         2974 non-null   object \n",
      " 7   Year Founded      2974 non-null   int64  \n",
      " 8   Funding           2974 non-null   float64\n",
      " 9   Select Investors  2974 non-null   object \n",
      "dtypes: float64(2), int64(1), object(7)\n",
      "memory usage: 232.5+ KB\n"
     ]
    }
   ],
   "source": [
    "# Drop rows with NaN values\n",
    "df.dropna(inplace=True)\n",
    "df.info()"
   ]
  },
  {
   "cell_type": "code",
   "execution_count": 15,
   "id": "f80dfb51-7ade-48b0-aecf-874e82bdf86d",
   "metadata": {},
   "outputs": [
    {
     "data": {
      "text/plain": [
       "0    1.800000e+11\n",
       "1    1.800000e+11\n",
       "2    1.800000e+11\n",
       "3    1.800000e+11\n",
       "4    1.000000e+11\n",
       "Name: Valuation, dtype: float64"
      ]
     },
     "execution_count": 15,
     "metadata": {},
     "output_type": "execute_result"
    }
   ],
   "source": [
    "# Remove \"$\" and \"B\" and cast \"Valuation\" as float\n",
    "df[\"Valuation\"] = (df[\"Valuation\"].astype(str)  # Ensure it's a string first\n",
    "    .str.replace(\"$\", \"\", regex=False)          # Remove \"$\"\n",
    "    .str.replace(\"B\", \"000000000\", regex=False) # Replace \"B\" with 9 zeros\n",
    "    .astype(float)                              # Convert to float\n",
    ")\n",
    "\n",
    "df[\"Valuation\"].head(5)\n"
   ]
  },
  {
   "cell_type": "code",
   "execution_count": 17,
   "id": "69bd9a08-1ec0-43e4-81fb-a593d4762863",
   "metadata": {},
   "outputs": [
    {
     "data": {
      "text/plain": [
       "Funding\n",
       "1.000000e+09    166\n",
       "2.000000e+09     84\n",
       "2.000000e+08     27\n",
       "4.000000e+09     25\n",
       "3.000000e+09     20\n",
       "               ... \n",
       "6.100000e+08      1\n",
       "4.180000e+08      1\n",
       "6.240000e+08      1\n",
       "6.700000e+07      1\n",
       "6.450000e+08      1\n",
       "Name: count, Length: 532, dtype: int64"
      ]
     },
     "execution_count": 17,
     "metadata": {},
     "output_type": "execute_result"
    }
   ],
   "source": [
    "# Check for non-numerical values\n",
    "df[\"Funding\"].value_counts()"
   ]
  },
  {
   "cell_type": "code",
   "execution_count": 19,
   "id": "8fc78238-3f69-4314-950f-55473ed276bb",
   "metadata": {},
   "outputs": [
    {
     "data": {
      "text/plain": [
       "(2974, 10)"
      ]
     },
     "execution_count": 19,
     "metadata": {},
     "output_type": "execute_result"
    }
   ],
   "source": [
    "# Exclude rows with unknown \"Funding\" values\n",
    "df = df[df[\"Funding\"] != \"Unknown\"]\n",
    "df.shape"
   ]
  },
  {
   "cell_type": "code",
   "execution_count": null,
   "id": "823fd110-b79e-4d90-9dc0-8a7044ceb192",
   "metadata": {},
   "outputs": [],
   "source": [
    "# Remove \"$\" and \"B\" and cast \"Funding\" as float\n",
    "df[\"Funding\"] = (df[\"Funding\"]\n",
    "    .str.replace(\"$\", \"\")\n",
    "    .str.replace(\"B\", \"000000000\")\n",
    "    .str.replace(\"M\", \"000000\")\n",
    "    .astype(float)\n",
    ")\n",
    "\n",
    "df[\"Funding\"].head(5)"
   ]
  },
  {
   "cell_type": "code",
   "execution_count": 21,
   "id": "b33d036f-c87d-4d5c-a1d2-8f208ae3fd04",
   "metadata": {},
   "outputs": [
    {
     "name": "stdout",
     "output_type": "stream",
     "text": [
      "<class 'pandas.core.frame.DataFrame'>\n",
      "RangeIndex: 2974 entries, 0 to 2973\n",
      "Data columns (total 10 columns):\n",
      " #   Column            Non-Null Count  Dtype  \n",
      "---  ------            --------------  -----  \n",
      " 0   Company           2974 non-null   object \n",
      " 1   Valuation         2974 non-null   float64\n",
      " 2   Date Joined       2974 non-null   object \n",
      " 3   Industry          2974 non-null   object \n",
      " 4   City              2974 non-null   object \n",
      " 5   Country           2974 non-null   object \n",
      " 6   Continent         2974 non-null   object \n",
      " 7   Year Founded      2974 non-null   int64  \n",
      " 8   Funding           2974 non-null   float64\n",
      " 9   Select Investors  2974 non-null   object \n",
      "dtypes: float64(2), int64(1), object(7)\n",
      "memory usage: 232.5+ KB\n"
     ]
    }
   ],
   "source": [
    "df.info()"
   ]
  },
  {
   "cell_type": "code",
   "execution_count": 23,
   "id": "e66c1728-e61f-471a-b94c-8608f63b8294",
   "metadata": {},
   "outputs": [
    {
     "data": {
      "text/plain": [
       "array(['Sequoia Capital China', 'SIG Asia Investments', 'Sina Weibo', ...,\n",
       "       'Augmentum Fintech', 'True', 'Causeway Media Partners'],\n",
       "      dtype=object)"
      ]
     },
     "execution_count": 23,
     "metadata": {},
     "output_type": "execute_result"
    }
   ],
   "source": [
    "df[\"Select Investors\"].unique()"
   ]
  },
  {
   "cell_type": "code",
   "execution_count": 25,
   "id": "2e437d5a-1fd0-451b-9653-a19c1d69bcfd",
   "metadata": {},
   "outputs": [
    {
     "data": {
      "text/plain": [
       "1235"
      ]
     },
     "execution_count": 25,
     "metadata": {},
     "output_type": "execute_result"
    }
   ],
   "source": [
    "df[\"Select Investors\"].nunique()"
   ]
  },
  {
   "cell_type": "code",
   "execution_count": 27,
   "id": "cf5118b9-2182-4e9c-a0ab-50e4439e6b21",
   "metadata": {},
   "outputs": [
    {
     "data": {
      "text/plain": [
       "Select Investors\n",
       "Accel                       59\n",
       "Tiger Global Management     52\n",
       "Andreessen Horowitz         52\n",
       "Insight Partners            46\n",
       "Sequoia Capital China       45\n",
       "                            ..\n",
       "Go-Ventures                  1\n",
       "Lockheed Martin Ventures     1\n",
       "GAM Holding                  1\n",
       "HOF Capital                  1\n",
       "Causeway Media Partners      1\n",
       "Name: count, Length: 1235, dtype: int64"
      ]
     },
     "execution_count": 27,
     "metadata": {},
     "output_type": "execute_result"
    }
   ],
   "source": [
    "df[\"Select Investors\"].value_counts()"
   ]
  },
  {
   "cell_type": "code",
   "execution_count": 31,
   "id": "b0823052-4925-4848-926f-c15f0d1ffb56",
   "metadata": {},
   "outputs": [],
   "source": [
    "# Split investors and convert to list\n",
    "df[\"Select Investors\"] = df[\"Select Investors\"].str.split(\", \")"
   ]
  },
  {
   "cell_type": "code",
   "execution_count": 33,
   "id": "780d3735-6db5-4a31-9034-b7043efbecf9",
   "metadata": {},
   "outputs": [
    {
     "name": "stdout",
     "output_type": "stream",
     "text": [
      "<class 'pandas.core.frame.DataFrame'>\n",
      "RangeIndex: 2974 entries, 0 to 2973\n",
      "Data columns (total 10 columns):\n",
      " #   Column            Non-Null Count  Dtype  \n",
      "---  ------            --------------  -----  \n",
      " 0   Company           2974 non-null   object \n",
      " 1   Valuation         2974 non-null   float64\n",
      " 2   Date Joined       2974 non-null   object \n",
      " 3   Industry          2974 non-null   object \n",
      " 4   City              2974 non-null   object \n",
      " 5   Country           2974 non-null   object \n",
      " 6   Continent         2974 non-null   object \n",
      " 7   Year Founded      2974 non-null   int64  \n",
      " 8   Funding           2974 non-null   float64\n",
      " 9   Select Investors  0 non-null      float64\n",
      "dtypes: float64(3), int64(1), object(6)\n",
      "memory usage: 232.5+ KB\n"
     ]
    }
   ],
   "source": [
    "df.info()"
   ]
  },
  {
   "cell_type": "code",
   "execution_count": 35,
   "id": "c31c2d4c-dbe1-4504-b859-0987a7f6e80b",
   "metadata": {},
   "outputs": [
    {
     "data": {
      "text/html": [
       "<div>\n",
       "<style scoped>\n",
       "    .dataframe tbody tr th:only-of-type {\n",
       "        vertical-align: middle;\n",
       "    }\n",
       "\n",
       "    .dataframe tbody tr th {\n",
       "        vertical-align: top;\n",
       "    }\n",
       "\n",
       "    .dataframe thead th {\n",
       "        text-align: right;\n",
       "    }\n",
       "</style>\n",
       "<table border=\"1\" class=\"dataframe\">\n",
       "  <thead>\n",
       "    <tr style=\"text-align: right;\">\n",
       "      <th></th>\n",
       "      <th>Company</th>\n",
       "      <th>Valuation</th>\n",
       "      <th>Date Joined</th>\n",
       "      <th>Industry</th>\n",
       "      <th>City</th>\n",
       "      <th>Country</th>\n",
       "      <th>Continent</th>\n",
       "      <th>Year Founded</th>\n",
       "      <th>Funding</th>\n",
       "      <th>Select Investors</th>\n",
       "    </tr>\n",
       "  </thead>\n",
       "  <tbody>\n",
       "    <tr>\n",
       "      <th>0</th>\n",
       "      <td>Bytedance</td>\n",
       "      <td>1.800000e+11</td>\n",
       "      <td>2017-04-07</td>\n",
       "      <td>Artificial intelligence</td>\n",
       "      <td>Beijing</td>\n",
       "      <td>China</td>\n",
       "      <td>Asia</td>\n",
       "      <td>2012</td>\n",
       "      <td>8.000000e+09</td>\n",
       "      <td>NaN</td>\n",
       "    </tr>\n",
       "    <tr>\n",
       "      <th>1</th>\n",
       "      <td>Bytedance</td>\n",
       "      <td>1.800000e+11</td>\n",
       "      <td>2017-04-07</td>\n",
       "      <td>Artificial intelligence</td>\n",
       "      <td>Beijing</td>\n",
       "      <td>China</td>\n",
       "      <td>Asia</td>\n",
       "      <td>2012</td>\n",
       "      <td>8.000000e+09</td>\n",
       "      <td>NaN</td>\n",
       "    </tr>\n",
       "    <tr>\n",
       "      <th>2</th>\n",
       "      <td>Bytedance</td>\n",
       "      <td>1.800000e+11</td>\n",
       "      <td>2017-04-07</td>\n",
       "      <td>Artificial intelligence</td>\n",
       "      <td>Beijing</td>\n",
       "      <td>China</td>\n",
       "      <td>Asia</td>\n",
       "      <td>2012</td>\n",
       "      <td>8.000000e+09</td>\n",
       "      <td>NaN</td>\n",
       "    </tr>\n",
       "    <tr>\n",
       "      <th>3</th>\n",
       "      <td>Bytedance</td>\n",
       "      <td>1.800000e+11</td>\n",
       "      <td>2017-04-07</td>\n",
       "      <td>Artificial intelligence</td>\n",
       "      <td>Beijing</td>\n",
       "      <td>China</td>\n",
       "      <td>Asia</td>\n",
       "      <td>2012</td>\n",
       "      <td>8.000000e+09</td>\n",
       "      <td>NaN</td>\n",
       "    </tr>\n",
       "    <tr>\n",
       "      <th>4</th>\n",
       "      <td>SpaceX</td>\n",
       "      <td>1.000000e+11</td>\n",
       "      <td>2012-12-01</td>\n",
       "      <td>Other</td>\n",
       "      <td>Hawthorne</td>\n",
       "      <td>United States</td>\n",
       "      <td>North America</td>\n",
       "      <td>2002</td>\n",
       "      <td>7.000000e+09</td>\n",
       "      <td>NaN</td>\n",
       "    </tr>\n",
       "  </tbody>\n",
       "</table>\n",
       "</div>"
      ],
      "text/plain": [
       "     Company     Valuation Date Joined                 Industry       City  \\\n",
       "0  Bytedance  1.800000e+11  2017-04-07  Artificial intelligence    Beijing   \n",
       "1  Bytedance  1.800000e+11  2017-04-07  Artificial intelligence    Beijing   \n",
       "2  Bytedance  1.800000e+11  2017-04-07  Artificial intelligence    Beijing   \n",
       "3  Bytedance  1.800000e+11  2017-04-07  Artificial intelligence    Beijing   \n",
       "4     SpaceX  1.000000e+11  2012-12-01                    Other  Hawthorne   \n",
       "\n",
       "         Country      Continent  Year Founded       Funding  Select Investors  \n",
       "0          China           Asia          2012  8.000000e+09               NaN  \n",
       "1          China           Asia          2012  8.000000e+09               NaN  \n",
       "2          China           Asia          2012  8.000000e+09               NaN  \n",
       "3          China           Asia          2012  8.000000e+09               NaN  \n",
       "4  United States  North America          2002  7.000000e+09               NaN  "
      ]
     },
     "execution_count": 35,
     "metadata": {},
     "output_type": "execute_result"
    }
   ],
   "source": [
    "# Explode \"Select Investors\" to individual list\n",
    "df = df.explode(\"Select Investors\")\n",
    "df.head()"
   ]
  },
  {
   "cell_type": "code",
   "execution_count": 37,
   "id": "23c2fff1-979b-4b35-88ca-c1b21fc6962c",
   "metadata": {},
   "outputs": [
    {
     "name": "stdout",
     "output_type": "stream",
     "text": [
      "<class 'pandas.core.frame.DataFrame'>\n",
      "Index: 2974 entries, 0 to 2973\n",
      "Data columns (total 10 columns):\n",
      " #   Column            Non-Null Count  Dtype  \n",
      "---  ------            --------------  -----  \n",
      " 0   Company           2974 non-null   object \n",
      " 1   Valuation         2974 non-null   float64\n",
      " 2   Date Joined       2974 non-null   object \n",
      " 3   Industry          2974 non-null   object \n",
      " 4   City              2974 non-null   object \n",
      " 5   Country           2974 non-null   object \n",
      " 6   Continent         2974 non-null   object \n",
      " 7   Year Founded      2974 non-null   int64  \n",
      " 8   Funding           2974 non-null   float64\n",
      " 9   Select Investors  0 non-null      float64\n",
      "dtypes: float64(3), int64(1), object(6)\n",
      "memory usage: 255.6+ KB\n"
     ]
    }
   ],
   "source": [
    "df.info()"
   ]
  },
  {
   "cell_type": "code",
   "execution_count": 39,
   "id": "56500bb5-d043-4a2f-9aab-a71e99ac091f",
   "metadata": {},
   "outputs": [
    {
     "data": {
      "text/plain": [
       "Series([], Name: count, dtype: int64)"
      ]
     },
     "execution_count": 39,
     "metadata": {},
     "output_type": "execute_result"
    }
   ],
   "source": [
    "df[\"Select Investors\"].value_counts()\n"
   ]
  },
  {
   "cell_type": "code",
   "execution_count": 41,
   "id": "0cfa7081-c805-4d8e-8517-5d5e5ddc3ee4",
   "metadata": {},
   "outputs": [],
   "source": [
    "# Import the clean df to folder\n",
    "df.to_csv(\"unicorn_companies_cleanfile.csv\", index=False)"
   ]
  },
  {
   "cell_type": "code",
   "execution_count": null,
   "id": "0a33937a-5835-452b-ae49-d76b0b1cdb3d",
   "metadata": {},
   "outputs": [],
   "source": []
  }
 ],
 "metadata": {
  "kernelspec": {
   "display_name": "Python [conda env:base] *",
   "language": "python",
   "name": "conda-base-py"
  },
  "language_info": {
   "codemirror_mode": {
    "name": "ipython",
    "version": 3
   },
   "file_extension": ".py",
   "mimetype": "text/x-python",
   "name": "python",
   "nbconvert_exporter": "python",
   "pygments_lexer": "ipython3",
   "version": "3.12.7"
  }
 },
 "nbformat": 4,
 "nbformat_minor": 5
}
